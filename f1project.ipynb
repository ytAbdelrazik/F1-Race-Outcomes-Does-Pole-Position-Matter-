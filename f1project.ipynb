{
  "nbformat": 4,
  "nbformat_minor": 0,
  "metadata": {
    "colab": {
      "provenance": []
    },
    "kernelspec": {
      "name": "python3",
      "display_name": "Python 3"
    },
    "language_info": {
      "name": "python"
    }
  },
  "cells": [
    {
      "cell_type": "code",
      "source": [
        "import pandas as pd\n",
        "import matplotlib.pyplot as plt\n",
        "import seaborn as sns\n",
        "from scipy.stats import chi2_contingency\n",
        "\n",
        "\n",
        "results_df = pd.read_csv('/content/results.csv')\n",
        "\n",
        "#  Filter for races where a driver started from pole position (grid == 1)\n",
        "pole_position_df = results_df[results_df['grid'] == 1][['raceId', 'driverId']]\n",
        "\n",
        "#  Filter for races where a driver finished in the first position (positionOrder == 1)\n",
        "race_winners_df = results_df[results_df['positionOrder'] == 1][['raceId', 'driverId', 'grid']]\n",
        "\n",
        "\n",
        "print(\"Drivers on Pole Position:\")\n",
        "print(pole_position_df)\n",
        "\n",
        "\n",
        "print(\"\\nRace Winners with Grid Position:\")\n",
        "print(race_winners_df)\n",
        "\n",
        "\n",
        "# Calculate winning percentages\n",
        "total_wins=len(race_winners_df)\n",
        "\n",
        "total_pole_positions = len(pole_position_df)\n",
        "\n",
        "pole_position_wins = len(race_winners_df[race_winners_df['grid'] == 1])\n",
        "\n",
        "wins_any_grid_position= total_wins-pole_position_wins\n",
        "\n",
        "pole_position_win_percentage = (pole_position_wins / total_pole_positions) * 100\n",
        "\n",
        "\n",
        "prob_win_from_pole=pole_position_wins/total_wins\n",
        "\n",
        "prob_win_from_any=wins_any_grid_position/total_wins\n",
        "\n",
        "print(f\"Total Pole Positions: {total_pole_positions}\")\n",
        "print(f\"Pole Position Wins: {pole_position_wins}\")\n",
        "print(f\"Win Percentage from Pole Position: {pole_position_win_percentage:.2f}%\")\n",
        "\n",
        "\n",
        "# bar plot\n",
        "plt.figure(figsize=(8, 6))\n",
        "plt.bar(['Pole Position', 'Any Position'], [prob_win_from_pole, prob_win_from_any], color=['blue', 'green'])\n",
        "plt.title('Probability of Winning a Race')\n",
        "plt.xlabel('Starting Position')\n",
        "plt.ylabel('Probability')\n",
        "plt.ylim(0, 1)\n",
        "plt.show()\n",
        "\n",
        "\n",
        "# pie chart\n",
        "labels = ['Pole Position', 'Other Positions']\n",
        "sizes = [prob_win_from_pole, 1 - prob_win_from_pole]\n",
        "colors = ['blue', 'lightgray']\n",
        "\n",
        "plt.figure(figsize=(8, 6))\n",
        "plt.pie(sizes, labels=labels, colors=colors, autopct='%1.1f%%', startangle=140)\n",
        "plt.title('Probability of Winning a Race')\n",
        "plt.axis('equal')\n",
        "plt.show()"
      ],
      "metadata": {
        "id": "EDuYJVkaHVLV"
      },
      "execution_count": null,
      "outputs": []
    },
    {
      "cell_type": "code",
      "source": [
        "# Chi-Square Test of Independence\n",
        "\n",
        "\n",
        "\n",
        "\n",
        "contingency_table = pd.crosstab(results_df['grid'] == 1, results_df['positionOrder'] == 1)\n",
        "\n",
        "print(\"Contingency Table:\")\n",
        "print(contingency_table)\n",
        "# Calculate expected frequencies (assuming null hypothesis: no association)\n",
        "expected = pd.DataFrame({\n",
        "    True: [contingency_table.sum(axis=1)[True] * contingency_table.sum(axis=0)[True] / contingency_table.sum().sum()],\n",
        "    False: [contingency_table.sum(axis=1)[False] * contingency_table.sum(axis=0)[False] / contingency_table.sum().sum()]\n",
        "}, index=['Expected'])\n",
        "\n",
        "print(\"\\nExpected Frequencies:\")\n",
        "print(expected)\n",
        "from scipy.stats import chi2_contingency\n",
        "\n",
        "\n",
        "observed = contingency_table.values\n",
        "\n",
        "chi2, p, dof, expected = chi2_contingency(observed)\n",
        "\n",
        "print(\"\\nChi-square Test Statistic:\")\n",
        "print(f\"Chi-square statistic: {chi2:.4f}\")\n",
        "print(f\"P-value: {p:.4f}\")\n",
        "import matplotlib.pyplot as plt\n",
        "import seaborn as sns\n",
        "\n",
        "# Visualize the contingency table as a heatmap\n",
        "plt.figure(figsize=(8, 6))\n",
        "sns.heatmap(contingency_table, annot=True, cmap=\"YlGnBu\", cbar=False, fmt='d')\n",
        "plt.title('Contingency Table: Pole Position vs. Race Win')\n",
        "plt.xlabel('Race Win (Postition 1)')\n",
        "plt.ylabel('Pole Position (Grid 1)')\n",
        "plt.show()"
      ],
      "metadata": {
        "colab": {
          "base_uri": "https://localhost:8080/",
          "height": 785
        },
        "id": "b403a5Dfcbli",
        "outputId": "778757da-451e-480c-dfb8-799fe0a5bc05"
      },
      "execution_count": null,
      "outputs": [
        {
          "output_type": "stream",
          "name": "stdout",
          "text": [
            "Contingency Table:\n",
            "positionOrder  False  True \n",
            "grid                       \n",
            "False          24755    640\n",
            "True             648    476\n",
            "\n",
            "Expected Frequencies:\n",
            "              True          False\n",
            "Expected  47.301331  24326.301331\n",
            "\n",
            "Chi-square Test Statistic:\n",
            "Chi-square statistic: 4225.6967\n",
            "P-value: 0.0000\n"
          ]
        },
        {
          "output_type": "display_data",
          "data": {
            "text/plain": [
              "<Figure size 800x600 with 1 Axes>"
            ],
            "image/png": "[encoded data removed]"
          },
          "metadata": {}
        }
      ]
    },
    {
      "cell_type": "markdown",
      "source": [
        "H0:ther is no assosciation between starting the race in pole position\n",
        "H1:There is an association between starting from pole position and winning the race.\n"
      ],
      "metadata": {
        "id": "-MWvlQWwjypJ"
      }
    },
    {
      "cell_type": "markdown",
      "source": [
        "after doing the  Chi-Square Test of Independence the NUll hypothesis was rejected and it was found that there is indeed a significant association between starting from pole position and winning races.\n"
      ],
      "metadata": {
        "id": "Y_8Qa5yYj9WZ"
      }
    },
    {
      "cell_type": "markdown",
      "source": [],
      "metadata": {
        "id": "MW6FGhoTk_vu"
      }
    }
  ]
}